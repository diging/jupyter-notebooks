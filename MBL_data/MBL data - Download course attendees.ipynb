{
 "cells": [
  {
   "cell_type": "markdown",
   "metadata": {},
   "source": [
    "# Download MBL Course Attendees"
   ]
  },
  {
   "cell_type": "markdown",
   "metadata": {},
   "source": [
    "Do run this notebook, adjust the parameters below and execute all cells.\n",
    "\n",
    "This notebooks uses the following libraries."
   ]
  },
  {
   "cell_type": "code",
   "execution_count": 1,
   "metadata": {},
   "outputs": [],
   "source": [
    "import requests\n",
    "import csv\n",
    "import time\n",
    "import sys"
   ]
  },
  {
   "cell_type": "markdown",
   "metadata": {},
   "source": [
    "This notebooks needs two parameters:\n",
    "* url: The url of the course group you want to download all attendees for, e.g. https://amphora.asu.edu/mbl-data/rest/coursegroups/77/\n",
    "* output_file: the absolute filepath of the file, you want the results to be written to, e.g. on OSX /Users/your_username/your_project_folder/attendees.csv\n",
    "\n",
    "The following cell should look like:\n",
    "```\n",
    "url = 'https://amphora.asu.edu/mbl-data/rest/coursegroups/77/'\n",
    "output_file = '/Users/your_username/your_project_folder/attendees.csv'\n",
    "```"
   ]
  },
  {
   "cell_type": "code",
   "execution_count": 4,
   "metadata": {},
   "outputs": [],
   "source": [
    "url = ''\n",
    "output_file = ''"
   ]
  },
  {
   "cell_type": "markdown",
   "metadata": {},
   "source": [
    "The following code, downloads all attendees data and writes it to a csv file."
   ]
  },
  {
   "cell_type": "code",
   "execution_count": 3,
   "metadata": {},
   "outputs": [
    {
     "name": "stdout",
     "output_type": "stream",
     "text": [
      "Getting attendees for Physiology courses...\n",
      "\n",
      "Working on Physiology 1989\n",
      "........................................................................\n",
      "Working on Physiology 1984\n",
      "..................................................\n",
      "done\n"
     ]
    }
   ],
   "source": [
    "r = requests.get(url = url) \n",
    "  \n",
    "# extracting data in json format \n",
    "data = r.json() \n",
    "\n",
    "print \"Getting attendees for %s courses...\"%(data[\"name\"])\n",
    "\n",
    "with open(output_file, mode='w') as attendees_file:\n",
    "    writer = csv.writer(attendees_file, delimiter=',', quotechar='\"', quoting=csv.QUOTE_MINIMAL)\n",
    "    writer.writerow(['Course Name', 'Course URL', 'Course Year', 'Last Name', 'First Name', 'Person URL', 'Person Roles'])\n",
    "    for course in data[\"courses\"][:2]:\n",
    "        course_url = course[\"url\"]\n",
    "        \n",
    "        time.sleep(1)\n",
    "        course_request = requests.get(url=course_url)\n",
    "        course_data = course_request.json()\n",
    "        \n",
    "        print \"\\nWorking on \" + course_data[\"name\"]\n",
    "        \n",
    "        for attendee in course_data[\"attendees\"]:\n",
    "            writer.writerow([course_data[\"name\"], course_url, course[\"year\"], attendee[\"last_name\"], attendee[\"first_name\"], attendee[\"url\"], \", \".join(attendee[\"role\"])])\n",
    "            sys.stdout.write('.')\n",
    "            sys.stdout.flush()\n",
    "        \n",
    "    print \"\\ndone\""
   ]
  },
  {
   "cell_type": "code",
   "execution_count": null,
   "metadata": {},
   "outputs": [],
   "source": []
  }
 ],
 "metadata": {
  "kernelspec": {
   "display_name": "Python 2",
   "language": "python",
   "name": "python2"
  },
  "language_info": {
   "codemirror_mode": {
    "name": "ipython",
    "version": 2
   },
   "file_extension": ".py",
   "mimetype": "text/x-python",
   "name": "python",
   "nbconvert_exporter": "python",
   "pygments_lexer": "ipython2",
   "version": "2.7.15"
  }
 },
 "nbformat": 4,
 "nbformat_minor": 2
}
