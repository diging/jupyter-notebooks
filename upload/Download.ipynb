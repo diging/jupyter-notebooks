{
 "cells": [
  {
   "cell_type": "markdown",
   "id": "1da66e04-c31b-45c3-a0f9-1e15732ded0e",
   "metadata": {},
   "source": [
    "# Download Files From Citesphere Group"
   ]
  },
  {
   "cell_type": "code",
   "execution_count": null,
   "id": "078a3791-f68b-4274-b0bd-3304e519cb79",
   "metadata": {},
   "outputs": [],
   "source": [
    "import os\n",
    "import requests\n",
    "import json"
   ]
  },
  {
   "cell_type": "markdown",
   "id": "f4b19e17-ed53-468a-8ca4-5a5a263916f7",
   "metadata": {},
   "source": [
    "## Specify Properties\n",
    "\n",
    "In the following properties need to be set before continuing:\n",
    "- `FOLDER_NAME`: path to the folder in which files should be downloaded, can be relative or absolute. Default value downloads files into a folder \"download\" located next to this notebook.\n",
    "- `GROUP_ID`: id of the Zotero group that should be downloaded (can be retrieved from the url of a group in Citesphere).\n",
    "- `CITESPHERE_API_URL`: API endpoint of Citesphere (should end in `/api`).\n",
    "- `TOKEN`: Citesphere access token.\n",
    "- `GILES_ROOT`: Base url of Giles."
   ]
  },
  {
   "cell_type": "code",
   "execution_count": null,
   "id": "2d694d14-49a7-4273-8cf1-81421670e0d6",
   "metadata": {},
   "outputs": [],
   "source": [
    "FOLDER_NAME = 'download/'\n",
    "GROUP_ID = ''\n",
    "CITESPHERE_API_URL = ''\n",
    "TOKEN = ''\n",
    "GILES_ROOT = ''"
   ]
  },
  {
   "cell_type": "code",
   "execution_count": null,
   "id": "8330eb2a-e0e7-4da0-8811-116865f1cd43",
   "metadata": {},
   "outputs": [],
   "source": [
    "# the following should only be changed if the Citesphere API changes\n",
    "ITEMS_API_URL = f\"{CITESPHERE_API_URL}/v1/groups/{GROUP_ID}/items\""
   ]
  },
  {
   "cell_type": "markdown",
   "id": "852cda2f-a04b-4187-a07d-63e3bb57f784",
   "metadata": {},
   "source": [
    "## Functions\n",
    "The following functions do the main work of downloading files."
   ]
  },
  {
   "cell_type": "code",
   "execution_count": null,
   "id": "1b721fe1-8548-4cae-b20b-763d1af4359b",
   "metadata": {},
   "outputs": [],
   "source": [
    "# get groups\n",
    "def get_items():\n",
    "    headers = {'Authorization': f'Bearer {TOKEN}'}\n",
    "    response = requests.get(ITEMS_API_URL, headers=headers)\n",
    "    return response.json()"
   ]
  },
  {
   "cell_type": "code",
   "execution_count": null,
   "id": "1db537e2-57d0-4c0d-bc14-1e64fdbda381",
   "metadata": {},
   "outputs": [],
   "source": [
    "def get_filename_from_response(response):\n",
    "    content_disposition = response.headers.get('Content-Disposition')\n",
    "    if content_disposition and 'filename=' in content_disposition:\n",
    "        # Extract the filename value\n",
    "        filename = content_disposition.split('filename=')[1].strip('\"')\n",
    "        return filename\n",
    "    return None"
   ]
  },
  {
   "cell_type": "code",
   "execution_count": null,
   "id": "94307904-d0ce-4ea2-83aa-e8869e73dd27",
   "metadata": {},
   "outputs": [],
   "source": [
    "def download_file(file_id):\n",
    "    endpoint = f\"{GILES_ROOT}/api/v2/resources/files/{file_id}/content\"\n",
    "    headers = {'Authorization': f'Bearer {TOKEN}'}\n",
    "    response = requests.get(endpoint, headers=headers)\n",
    "    filename = get_filename_from_response(response)\n",
    "\n",
    "    # if we have a filename, we'll download the file\n",
    "    # this will override files with the same name in the folder FOLDER_NAME!\n",
    "    if filename:\n",
    "        with open(FOLDER_NAME + filename, 'wb') as file:\n",
    "            file.write(response.content)"
   ]
  },
  {
   "cell_type": "markdown",
   "id": "ca2b49a9-dd5d-4eac-a13e-dd2e9b2c1a05",
   "metadata": {},
   "source": [
    "## Download files\n",
    "The following code uses the functions above to download the files."
   ]
  },
  {
   "cell_type": "code",
   "execution_count": null,
   "id": "70c94b67-29ae-4514-b768-b861cfd3bb81",
   "metadata": {},
   "outputs": [],
   "source": [
    "# get info about files\n",
    "items = get_items()\n",
    "\n",
    "# get file ids to download\n",
    "file_ids = []\n",
    "for item in items['items']:\n",
    "    uploads = item['gilesUploads']\n",
    "    for upload in uploads:\n",
    "        file_ids.append((upload['extractedText']['id']))"
   ]
  },
  {
   "cell_type": "code",
   "execution_count": null,
   "id": "0e7195bb-ae9e-4146-a64b-36ced287effc",
   "metadata": {},
   "outputs": [],
   "source": [
    "for file_id in file_ids:\n",
    "    download_file(file_id)"
   ]
  },
  {
   "cell_type": "code",
   "execution_count": null,
   "id": "da8f5f87-cb44-4076-a883-9627eb6575e6",
   "metadata": {},
   "outputs": [],
   "source": []
  }
 ],
 "metadata": {
  "kernelspec": {
   "display_name": "Python 3 (ipykernel)",
   "language": "python",
   "name": "python3"
  },
  "language_info": {
   "codemirror_mode": {
    "name": "ipython",
    "version": 3
   },
   "file_extension": ".py",
   "mimetype": "text/x-python",
   "name": "python",
   "nbconvert_exporter": "python",
   "pygments_lexer": "ipython3",
   "version": "3.12.2"
  }
 },
 "nbformat": 4,
 "nbformat_minor": 5
}
