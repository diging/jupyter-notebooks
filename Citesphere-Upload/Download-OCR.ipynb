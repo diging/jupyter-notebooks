{
 "cells": [
  {
   "cell_type": "markdown",
   "id": "1da66e04-c31b-45c3-a0f9-1e15732ded0e",
   "metadata": {},
   "source": [
    "# Download Files From Citesphere Group"
   ]
  },
  {
   "cell_type": "code",
   "execution_count": null,
   "id": "078a3791-f68b-4274-b0bd-3304e519cb79",
   "metadata": {},
   "outputs": [],
   "source": [
    "import os, sys\n",
    "import requests\n",
    "import json\n",
    "import time\n",
    "import traceback"
   ]
  },
  {
   "cell_type": "markdown",
   "id": "f4b19e17-ed53-468a-8ca4-5a5a263916f7",
   "metadata": {},
   "source": [
    "## Specify Properties\n",
    "\n",
    "In the following properties need to be set before continuing:\n",
    "- `FOLDER_NAME`: path to the folder in which files should be downloaded, can be relative or absolute. Default value downloads files into a folder \"download\" located next to this notebook.\n",
    "- `GROUP_ID`: id of the Zotero group that should be downloaded (can be retrieved from the url of a group in Citesphere).\n",
    "- `CITESPHERE_API_URL`: API endpoint of Citesphere (should end in `/api`).\n",
    "- `TOKEN`: Citesphere access token.\n",
    "- `GILES_ROOT`: Base url of Giles."
   ]
  },
  {
   "cell_type": "code",
   "execution_count": null,
   "id": "2d694d14-49a7-4273-8cf1-81421670e0d6",
   "metadata": {},
   "outputs": [],
   "source": [
    "FOLDER_NAME = 'download/'\n",
    "GROUP_ID = ''\n",
    "CITESPHERE_API_URL = ''\n",
    "TOKEN = ''\n",
    "GILES_ROOT = ''"
   ]
  },
  {
   "cell_type": "code",
   "execution_count": null,
   "id": "8330eb2a-e0e7-4da0-8811-116865f1cd43",
   "metadata": {},
   "outputs": [],
   "source": [
    "# the following should only be changed if the Citesphere API changes\n",
    "ITEMS_API_URL = f\"{CITESPHERE_API_URL}/v1/groups/{GROUP_ID}/items\"\n",
    "UPLOAD_BY_PROGRESS = f\"{GILES_ROOT}/api/v2/files/upload/check/\"\n",
    "UPLOAD_ENDPOINT = f\"{GILES_ROOT}/api/v2/resources/files/upload/\""
   ]
  },
  {
   "cell_type": "markdown",
   "id": "852cda2f-a04b-4187-a07d-63e3bb57f784",
   "metadata": {},
   "source": [
    "## Functions\n",
    "The following functions do the main work of downloading files."
   ]
  },
  {
   "cell_type": "code",
   "execution_count": null,
   "id": "1b721fe1-8548-4cae-b20b-763d1af4359b",
   "metadata": {},
   "outputs": [],
   "source": [
    "# get groups\n",
    "def get_items(page):\n",
    "    headers = {'Authorization': f'Bearer {TOKEN}'}\n",
    "    response = requests.get(ITEMS_API_URL + \"?page=\"+str(page), headers=headers)\n",
    "    return response.json()"
   ]
  },
  {
   "cell_type": "code",
   "execution_count": null,
   "id": "1db537e2-57d0-4c0d-bc14-1e64fdbda381",
   "metadata": {},
   "outputs": [],
   "source": [
    "def get_filename_from_response(response):\n",
    "    content_disposition = response.headers.get('Content-Disposition')\n",
    "    if content_disposition and 'filename=' in content_disposition:\n",
    "        # Extract the filename value\n",
    "        filename = content_disposition.split('filename=')[1].strip('\"')\n",
    "        return filename\n",
    "    return None"
   ]
  },
  {
   "cell_type": "code",
   "execution_count": null,
   "id": "94307904-d0ce-4ea2-83aa-e8869e73dd27",
   "metadata": {},
   "outputs": [],
   "source": [
    "def download_ocr(file_ids):\n",
    "    if not file_ids:\n",
    "        return\n",
    "    headers = {'Authorization': f'Bearer {TOKEN}'}\n",
    "    \n",
    "    filename = None\n",
    "    for file_id in file_ids:\n",
    "        endpoint = f\"{GILES_ROOT}/api/v2/resources/files/{file_id}/content\"\n",
    "        response = requests.get(endpoint, headers=headers)\n",
    "        if not filename:\n",
    "            filename = get_filename_from_response(response)\n",
    "            filename = filename[:filename.find(\".\")] + \".txt\"\n",
    "    \n",
    "        # if we have a filename, we'll download the file\n",
    "        # this will override files with the same name in the folder FOLDER_NAME!\n",
    "        print(f\"Downloading {filename}.\")\n",
    "        if filename:\n",
    "            with open(FOLDER_NAME + filename, 'ab') as file:\n",
    "                file.write(response.content)\n",
    "        else:\n",
    "            print(\"Can't download file.\")\n",
    "\n",
    "    "
   ]
  },
  {
   "cell_type": "code",
   "execution_count": null,
   "id": "a8aff03c-dfd3-4ceb-ac32-b2cd75c2e801",
   "metadata": {},
   "outputs": [],
   "source": [
    "def get_ocr_ids(document):\n",
    "    #print(\"Checking ocr ids for \" + document[\"documentId\"])\n",
    "    sys.stdout.write(\".\")\n",
    "    file_ids = []\n",
    "    try:\n",
    "        # we only want to build ocr if there is no extracted text\n",
    "        if \"extractedText\" in document and document[\"extractedText\"] and \"id\" in document[\"extractedText\"]:\n",
    "            #print(\"Text was extracted from PDF, so won't download OCR.\")\n",
    "            return None\n",
    "        else:\n",
    "            if \"pages\" in document:\n",
    "                for page in document[\"pages\"]:\n",
    "                    if \"ocr\" in page and \"id\" in page[\"ocr\"]:\n",
    "                        file_ids.append(page[\"ocr\"][\"id\"])\n",
    "                    else:\n",
    "                        print(\"\\n\")\n",
    "                        print(\"OCR incomplete, so won't download OCR.\")\n",
    "                        return None\n",
    "            else:\n",
    "                print(\"No pages found.\")\n",
    "                return None\n",
    "        #print(\"Returning: \", file_ids)\n",
    "        return file_ids\n",
    "    except Exception as e:\n",
    "        traceback.print_exc()\n",
    "    return None"
   ]
  },
  {
   "cell_type": "code",
   "execution_count": null,
   "id": "58be244a-eba9-4113-b52d-4abd97050706",
   "metadata": {},
   "outputs": [],
   "source": [
    "def get_file_ids_from_progress(progress_id):\n",
    "    headers = {'Authorization': f'Bearer {TOKEN}'}\n",
    "    uploads = requests.get(UPLOAD_BY_PROGRESS + progress_id, headers=headers).json()\n",
    "    file_ids = []\n",
    "\n",
    "    # if processing in progress\n",
    "    if 'msg' in uploads and \"uploadId\" in uploads:\n",
    "        try:\n",
    "            inprogress_uploads = requests.get(UPLOAD_ENDPOINT + uploads[\"uploadId\"], headers=headers).json()\n",
    "            for inprogress_upload in inprogress_uploads:\n",
    "                ids = get_ocr_ids(inprogress_upload)\n",
    "                if ids:\n",
    "                    file_ids.append(ids)\n",
    "        except Exception as e:\n",
    "            traceback.print_exc()\n",
    "    else:\n",
    "        for upload in uploads:\n",
    "            ids = get_ocr_ids(upload)\n",
    "            if ids:\n",
    "                file_ids.append(ids)\n",
    "            \n",
    "    return file_ids\n",
    "    "
   ]
  },
  {
   "cell_type": "markdown",
   "id": "ca2b49a9-dd5d-4eac-a13e-dd2e9b2c1a05",
   "metadata": {},
   "source": [
    "## Download files\n",
    "The following code uses the functions above to download the files."
   ]
  },
  {
   "cell_type": "code",
   "execution_count": null,
   "id": "70c94b67-29ae-4514-b768-b861cfd3bb81",
   "metadata": {},
   "outputs": [],
   "source": [
    "# get info about files\n",
    "file_ids = []\n",
    "page=0\n",
    "while(True):\n",
    "    page = page+1\n",
    "    items = get_items(page)\n",
    "    if not items['items']:\n",
    "        print(\"no more items, done.\")\n",
    "        break\n",
    "    print(\"Page \" + str(page))\n",
    "    if \"error\" in items:\n",
    "        print(items)\n",
    "    \n",
    "    # get file ids to download\n",
    "    for item in items['items']:\n",
    "        time.sleep(0.5)\n",
    "        uploads = item['gilesUploads']\n",
    "        for upload in uploads:\n",
    "            try:\n",
    "                if 'progressId' in upload and upload['progressId']:\n",
    "                    ocr_ids = get_file_ids_from_progress(upload['progressId'])\n",
    "                    if ocr_ids:\n",
    "                        file_ids = file_ids + ocr_ids\n",
    "                #if 'extractedText' in upload and upload['extractedText']:\n",
    "                #    file_ids.append((upload['extractedText']['id']))\n",
    "                else:\n",
    "                    print(\"Could not download file for \" + item['key'])\n",
    "            except Exception as e:\n",
    "                print(\"Encountered an error!\", upload)\n",
    "                traceback.print_exc()\n",
    "print(file_ids)"
   ]
  },
  {
   "cell_type": "code",
   "execution_count": null,
   "id": "0e7195bb-ae9e-4146-a64b-36ced287effc",
   "metadata": {},
   "outputs": [],
   "source": [
    "# download all files of a document and append\n",
    "for ocr_file_ids in file_ids:\n",
    "    time.sleep(0.5)\n",
    "    download_ocr(ocr_file_ids)"
   ]
  },
  {
   "cell_type": "code",
   "execution_count": null,
   "id": "da8f5f87-cb44-4076-a883-9627eb6575e6",
   "metadata": {},
   "outputs": [],
   "source": []
  },
  {
   "cell_type": "code",
   "execution_count": null,
   "id": "336142f9-4e8d-42b8-9ab4-3da3042af24e",
   "metadata": {},
   "outputs": [],
   "source": []
  },
  {
   "cell_type": "code",
   "execution_count": null,
   "id": "684dd50e-0ac8-42b8-9e8d-341b9822f815",
   "metadata": {},
   "outputs": [],
   "source": []
  },
  {
   "cell_type": "code",
   "execution_count": null,
   "id": "cd5714ca-2509-4fe3-9f7d-4ea6d8fabd7b",
   "metadata": {},
   "outputs": [],
   "source": []
  }
 ],
 "metadata": {
  "kernelspec": {
   "display_name": "Python 3 (ipykernel)",
   "language": "python",
   "name": "python3"
  },
  "language_info": {
   "codemirror_mode": {
    "name": "ipython",
    "version": 3
   },
   "file_extension": ".py",
   "mimetype": "text/x-python",
   "name": "python",
   "nbconvert_exporter": "python",
   "pygments_lexer": "ipython3",
   "version": "3.12.2"
  }
 },
 "nbformat": 4,
 "nbformat_minor": 5
}
