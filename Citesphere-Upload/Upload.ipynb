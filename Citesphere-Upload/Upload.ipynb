{
 "cells": [
  {
   "cell_type": "markdown",
   "id": "3c05635e-34d4-4cc6-b582-68cf1aa3dbc3",
   "metadata": {},
   "source": [
    "# Upload Files into Citesphere Group\n",
    "\n",
    "This notebook will upload files into a Citesphere group. By default only pdf files will be uploaded. Items in Citesphere will get the filename as title and will be of type \"Document\"."
   ]
  },
  {
   "cell_type": "code",
   "execution_count": null,
   "id": "cc17a6af-f844-4441-ada9-b97c80710c7c",
   "metadata": {},
   "outputs": [],
   "source": [
    "import os\n",
    "import requests\n",
    "import glob"
   ]
  },
  {
   "cell_type": "markdown",
   "id": "96114096-1100-4466-b420-821a2ddb1b19",
   "metadata": {},
   "source": [
    "## Specify properties\n",
    "In the following properties need to be set before continuing:\n",
    "\n",
    "- `FOLDER_NAME`: path to the folder that holdes the files to be uploaded. Default is a folder called \"files\" located next to this notebook.\n",
    "- `GROUP_ID`: id of the Zotero group into which the files should be uploaded into (can be retrieved from the url of a group in Citesphere).\n",
    "- `CITESPHERE_API_URL`: API endpoint of Citesphere (should end in /api).\n",
    "- `TOKEN`: Citesphere access token."
   ]
  },
  {
   "cell_type": "code",
   "execution_count": null,
   "id": "d65ec058-14db-4674-be05-4a44f7987e22",
   "metadata": {},
   "outputs": [],
   "source": [
    "FOLDER_NAME = 'files'\n",
    "GROUP_ID = ''\n",
    "CITESPHERE_API_URL = ''\n",
    "TOKEN = ''\n",
    "API_URL = f\"{CITESPHERE_API_URL}/v1/groups/{GROUP_ID}/items/create\""
   ]
  },
  {
   "cell_type": "markdown",
   "id": "86998c42-f9f3-4414-8376-d41151fe3071",
   "metadata": {},
   "source": [
    "## Functions\n",
    "The following functions do the main work of uploading files."
   ]
  },
  {
   "cell_type": "code",
   "execution_count": null,
   "id": "c76bb3d3-3479-479f-9e2d-83280502dc7c",
   "metadata": {},
   "outputs": [],
   "source": [
    "def submit_file(data, file_path):\n",
    "    headers = {'Authorization': f'Bearer {TOKEN}'}\n",
    "    \n",
    "    try:\n",
    "        file_obj = open(file_path, 'rb')  # Open the file\n",
    "        files = [(os.path.basename(file_path), file_obj)]\n",
    "\n",
    "        request_files = [('files', (name, file, 'application/pdf')) for name, file in files]\n",
    "        response = requests.post(API_URL, headers=headers, data=data, files=request_files)\n",
    "        print(response.status_code)\n",
    "        #print(response.text) uncomment this to see response body (e.g. for troubleshooting)\n",
    "    except Exception as e:\n",
    "        print(f\"[ERROR] -------- Error during API request with {file_path}: {e}\")\n",
    "    finally:\n",
    "        for _, file in files:\n",
    "            file.close()  "
   ]
  },
  {
   "cell_type": "code",
   "execution_count": null,
   "id": "e40e9466-00c6-4b46-8efe-401090f17ec2",
   "metadata": {},
   "outputs": [],
   "source": [
    "# find all PDF files in the folder to upload from\n",
    "glob_files = glob.glob(os.path.join(FOLDER_NAME, '*.pdf'))\n",
    "for path in glob_files:\n",
    "    print(\"Submitting \" + os.path.basename(path).split('/')[-1])\n",
    "    data = {\n",
    "        'title': os.path.basename(path).split('/')[-1],\n",
    "        'itemType': 'DOCUMENT',\n",
    "    }\n",
    "    submit_file(data, path)"
   ]
  },
  {
   "cell_type": "code",
   "execution_count": null,
   "id": "7f3092ff-0d1e-48f4-9bfe-f497f227f968",
   "metadata": {},
   "outputs": [],
   "source": []
  },
  {
   "cell_type": "code",
   "execution_count": null,
   "id": "0abfd72d-f767-4ab1-b5cd-df6e652fdfe5",
   "metadata": {},
   "outputs": [],
   "source": []
  }
 ],
 "metadata": {
  "kernelspec": {
   "display_name": "Python 3 (ipykernel)",
   "language": "python",
   "name": "python3"
  },
  "language_info": {
   "codemirror_mode": {
    "name": "ipython",
    "version": 3
   },
   "file_extension": ".py",
   "mimetype": "text/x-python",
   "name": "python",
   "nbconvert_exporter": "python",
   "pygments_lexer": "ipython3",
   "version": "3.12.2"
  }
 },
 "nbformat": 4,
 "nbformat_minor": 5
}
